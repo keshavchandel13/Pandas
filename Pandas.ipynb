{
  "nbformat": 4,
  "nbformat_minor": 0,
  "metadata": {
    "colab": {
      "provenance": [],
      "authorship_tag": "ABX9TyPNg1ReiTRnGXy2zzqKBCEM",
      "include_colab_link": true
    },
    "kernelspec": {
      "name": "python3",
      "display_name": "Python 3"
    },
    "language_info": {
      "name": "python"
    }
  },
  "cells": [
    {
      "cell_type": "markdown",
      "metadata": {
        "id": "view-in-github",
        "colab_type": "text"
      },
      "source": [
        "<a href=\"https://colab.research.google.com/github/keshavchandel13/Pandas/blob/main/Pandas.ipynb\" target=\"_parent\"><img src=\"https://colab.research.google.com/assets/colab-badge.svg\" alt=\"Open In Colab\"/></a>"
      ]
    },
    {
      "cell_type": "markdown",
      "source": [
        "# Pandas"
      ],
      "metadata": {
        "id": "0L_wkGDpgn_J"
      }
    },
    {
      "cell_type": "code",
      "execution_count": null,
      "metadata": {
        "colab": {
          "base_uri": "https://localhost:8080/",
          "height": 327
        },
        "id": "YoiyyfC8gXJy",
        "outputId": "4fefac91-4122-4f93-8602-eeba35bdc71d"
      },
      "outputs": [
        {
          "output_type": "stream",
          "name": "stdout",
          "text": [
            "0 11\n",
            "1 22\n",
            "2 43\n",
            "3 84\n",
            "4 98\n"
          ]
        },
        {
          "output_type": "execute_result",
          "data": {
            "text/plain": [
              "0    11\n",
              "1    22\n",
              "2    43\n",
              "3    84\n",
              "4    98\n",
              "dtype: int64"
            ],
            "text/html": [
              "<div>\n",
              "<style scoped>\n",
              "    .dataframe tbody tr th:only-of-type {\n",
              "        vertical-align: middle;\n",
              "    }\n",
              "\n",
              "    .dataframe tbody tr th {\n",
              "        vertical-align: top;\n",
              "    }\n",
              "\n",
              "    .dataframe thead th {\n",
              "        text-align: right;\n",
              "    }\n",
              "</style>\n",
              "<table border=\"1\" class=\"dataframe\">\n",
              "  <thead>\n",
              "    <tr style=\"text-align: right;\">\n",
              "      <th></th>\n",
              "      <th>0</th>\n",
              "    </tr>\n",
              "  </thead>\n",
              "  <tbody>\n",
              "    <tr>\n",
              "      <th>0</th>\n",
              "      <td>11</td>\n",
              "    </tr>\n",
              "    <tr>\n",
              "      <th>1</th>\n",
              "      <td>22</td>\n",
              "    </tr>\n",
              "    <tr>\n",
              "      <th>2</th>\n",
              "      <td>43</td>\n",
              "    </tr>\n",
              "    <tr>\n",
              "      <th>3</th>\n",
              "      <td>84</td>\n",
              "    </tr>\n",
              "    <tr>\n",
              "      <th>4</th>\n",
              "      <td>98</td>\n",
              "    </tr>\n",
              "  </tbody>\n",
              "</table>\n",
              "</div><br><label><b>dtype:</b> int64</label>"
            ]
          },
          "metadata": {},
          "execution_count": 4
        }
      ],
      "source": [
        "import numpy as np\n",
        "import pandas as pd\n",
        "\n",
        "# Series function in pandas\n",
        "# In place of enumerate we can use Series\n",
        "lst = [11,22,43,84,98]\n",
        "# use of enumerate: prints data with Their index\n",
        "for i,j in enumerate(lst):\n",
        "  print(i,j)\n",
        "# To manipulate the large data it is difficult with index so we can use Series function\n",
        "pd.Series(lst)\n"
      ]
    },
    {
      "cell_type": "code",
      "source": [
        "# Creating of Series\n",
        "t1 = (3,4,5) # the tuple or list can we passed\n",
        "s1 = pd.Series(t1,index=['a','b','c'])\n",
        "print(s1)\n",
        "print(type(s1))\n"
      ],
      "metadata": {
        "colab": {
          "base_uri": "https://localhost:8080/"
        },
        "id": "jqWoadgJkOct",
        "outputId": "7103101f-7072-48e8-f84e-c5eb80f99173"
      },
      "execution_count": null,
      "outputs": [
        {
          "output_type": "stream",
          "name": "stdout",
          "text": [
            "a    3\n",
            "b    4\n",
            "c    5\n",
            "dtype: int64\n",
            "<class 'pandas.core.series.Series'>\n"
          ]
        }
      ]
    },
    {
      "cell_type": "markdown",
      "source": [
        "# Extracting data from series"
      ],
      "metadata": {
        "id": "qzIvqHDZ389M"
      }
    },
    {
      "cell_type": "code",
      "source": [
        "import numpy as np\n",
        "import pandas as pd\n",
        "s = pd.Series([23,12,54,55],index=['a','b','c','d'])\n",
        "print(s)\n",
        "#  Method 1: Position Based indexing\n",
        "print(s['a'])\n",
        "# Method 2: Label Based Indexing\n",
        "print(s[0])\n",
        "# Method 3: range based extracting\n",
        "print(s['a':'c']) # last index is included in label based\n",
        "# Method 4: Specific records extracting\n",
        "print(s[['b','a']])\n"
      ],
      "metadata": {
        "colab": {
          "base_uri": "https://localhost:8080/"
        },
        "id": "rTWfCTo54Uao",
        "outputId": "c671bc8f-1553-4da4-cf11-c086a26d42fc"
      },
      "execution_count": 5,
      "outputs": [
        {
          "output_type": "stream",
          "name": "stdout",
          "text": [
            "a    23\n",
            "b    12\n",
            "c    54\n",
            "d    55\n",
            "dtype: int64\n",
            "23\n",
            "23\n",
            "a    23\n",
            "b    12\n",
            "c    54\n",
            "dtype: int64\n",
            "b    12\n",
            "a    23\n",
            "dtype: int64\n"
          ]
        },
        {
          "output_type": "stream",
          "name": "stderr",
          "text": [
            "<ipython-input-5-d548e99f6801>:8: FutureWarning: Series.__getitem__ treating keys as positions is deprecated. In a future version, integer keys will always be treated as labels (consistent with DataFrame behavior). To access a value by position, use `ser.iloc[pos]`\n",
            "  print(s[0])\n"
          ]
        }
      ]
    },
    {
      "cell_type": "code",
      "source": [
        "veg = pd.Series({'potato':3,'tomato':6,'chilly':2,'pumpkin':8,'carrot':10,'radish':4})\n",
        "print(veg)\n",
        "print(veg.index)\n",
        "print(veg.shape)\n",
        "# Subset series\n",
        "print(\"subset series\")\n",
        "print(veg[['potato','tomato']])\n",
        "print(veg[0])"
      ],
      "metadata": {
        "colab": {
          "base_uri": "https://localhost:8080/"
        },
        "id": "gXCfe3WZ6edS",
        "outputId": "24d9e6e8-3967-4c32-f912-9eb11ee20eea"
      },
      "execution_count": 10,
      "outputs": [
        {
          "output_type": "stream",
          "name": "stdout",
          "text": [
            "potato      3\n",
            "tomato      6\n",
            "chilly      2\n",
            "pumpkin     8\n",
            "carrot     10\n",
            "radish      4\n",
            "dtype: int64\n",
            "Index(['potato', 'tomato', 'chilly', 'pumpkin', 'carrot', 'radish'], dtype='object')\n",
            "(6,)\n",
            "subset series\n",
            "potato    3\n",
            "tomato    6\n",
            "dtype: int64\n",
            "3\n"
          ]
        },
        {
          "output_type": "stream",
          "name": "stderr",
          "text": [
            "<ipython-input-10-2ce50041dd1e>:8: FutureWarning: Series.__getitem__ treating keys as positions is deprecated. In a future version, integer keys will always be treated as labels (consistent with DataFrame behavior). To access a value by position, use `ser.iloc[pos]`\n",
            "  print(veg[0])\n"
          ]
        }
      ]
    },
    {
      "cell_type": "code",
      "source": [
        "# loc / iloc\n",
        "# loc: Label based indexing\n",
        "# iloc: position based indexing\n",
        "print(veg.loc['potato'])\n",
        "print(veg.iloc[0])\n",
        "print(veg > 2) # print bool\n",
        "print()\n",
        "print()\n",
        "print()\n",
        "# To print filtered data\n",
        "print(\"Filtered Data\")\n",
        "print(veg[veg > 7])\n",
        "print()\n",
        "print()\n",
        "\n",
        "# head and tail\n",
        "print(\"Prints first 2 data\\n\")\n",
        "print(veg.head(2))\n",
        "print(\"\\nPrints bottom 2 data\\n\")\n",
        "print(veg.tail(2))"
      ],
      "metadata": {
        "colab": {
          "base_uri": "https://localhost:8080/"
        },
        "id": "yGR0tQhh8efK",
        "outputId": "4ecae796-0738-4fa8-f5c3-addf8f0ed301"
      },
      "execution_count": 20,
      "outputs": [
        {
          "output_type": "stream",
          "name": "stdout",
          "text": [
            "3\n",
            "3\n",
            "potato      True\n",
            "tomato      True\n",
            "chilly     False\n",
            "pumpkin     True\n",
            "carrot      True\n",
            "radish      True\n",
            "dtype: bool\n",
            "\n",
            "\n",
            "\n",
            "Filtered Data\n",
            "pumpkin     8\n",
            "carrot     10\n",
            "dtype: int64\n",
            "\n",
            "\n",
            "Prints first 2 data\n",
            "\n",
            "potato    3\n",
            "tomato    6\n",
            "dtype: int64\n",
            "\n",
            "Prints bottom 2 data\n",
            "\n",
            "carrot    10\n",
            "radish     4\n",
            "dtype: int64\n"
          ]
        }
      ]
    },
    {
      "cell_type": "code",
      "source": [
        "# Check the value belongs to the series\n",
        "print('potato' in veg)\n",
        "print('brinjal' in veg)\n",
        "print()\n",
        "print()\n",
        "# isin function\n",
        "print(veg.isin([2,10]))"
      ],
      "metadata": {
        "colab": {
          "base_uri": "https://localhost:8080/"
        },
        "id": "whFjyCZTL8nd",
        "outputId": "7215fd75-902e-4dd1-8c10-e2081d8e6909"
      },
      "execution_count": 23,
      "outputs": [
        {
          "output_type": "stream",
          "name": "stdout",
          "text": [
            "True\n",
            "False\n",
            "\n",
            "\n",
            "potato     False\n",
            "tomato     False\n",
            "chilly      True\n",
            "pumpkin    False\n",
            "carrot      True\n",
            "radish     False\n",
            "dtype: bool\n"
          ]
        }
      ]
    },
    {
      "cell_type": "code",
      "source": [
        "# Unique(): none of all unique records\n",
        "# nunique(): count of unique records\n",
        "# value_counts(): name of uniques records with their occurences\n",
        "s = pd.Series({'a':1,\"b\":2,\"c\":1,\"d\":2,\"e\":3})\n",
        "print(\"Unique() function\")\n",
        "print(s.unique())\n",
        "print(\"nunique() function\")\n",
        "print(s.nunique())\n",
        "print(\"value_count() function\")\n",
        "print(s.value_counts())"
      ],
      "metadata": {
        "colab": {
          "base_uri": "https://localhost:8080/"
        },
        "id": "OB6o9M4mNGjr",
        "outputId": "7f13ba42-8091-4b99-b5b2-0cd57281779b"
      },
      "execution_count": 25,
      "outputs": [
        {
          "output_type": "stream",
          "name": "stdout",
          "text": [
            "Unique() function\n",
            "[1 2 3]\n",
            "nunique() function\n",
            "3\n",
            "value_count() function\n",
            "1    2\n",
            "2    2\n",
            "3    1\n",
            "Name: count, dtype: int64\n"
          ]
        }
      ]
    },
    {
      "cell_type": "code",
      "source": [
        "# dealing with duplicates\n",
        "print(s.duplicated())\n",
        "print(s.drop_duplicates())"
      ],
      "metadata": {
        "colab": {
          "base_uri": "https://localhost:8080/"
        },
        "id": "8fqPKtNrOQnN",
        "outputId": "6d07de9f-2b7b-43be-bdaf-2bbfc6ae822a"
      },
      "execution_count": 26,
      "outputs": [
        {
          "output_type": "stream",
          "name": "stdout",
          "text": [
            "a    False\n",
            "b    False\n",
            "c     True\n",
            "d     True\n",
            "e    False\n",
            "dtype: bool\n",
            "a    1\n",
            "b    2\n",
            "e    3\n",
            "dtype: int64\n"
          ]
        }
      ]
    },
    {
      "cell_type": "markdown",
      "source": [
        "# sorting series"
      ],
      "metadata": {
        "id": "vHlA72mCObPJ"
      }
    },
    {
      "cell_type": "code",
      "source": [
        "# Sorting series\n",
        "# Sorting using label\n",
        "print(veg.sort_index())\n",
        "# Sorting using values\n",
        "print(veg.sort_values())"
      ],
      "metadata": {
        "colab": {
          "base_uri": "https://localhost:8080/"
        },
        "id": "hh55V5FLOdkY",
        "outputId": "8e768c03-bd1d-4f4f-be22-132da9e939bf"
      },
      "execution_count": 27,
      "outputs": [
        {
          "output_type": "stream",
          "name": "stdout",
          "text": [
            "carrot     10\n",
            "chilly      2\n",
            "potato      3\n",
            "pumpkin     8\n",
            "radish      4\n",
            "tomato      6\n",
            "dtype: int64\n",
            "chilly      2\n",
            "potato      3\n",
            "radish      4\n",
            "tomato      6\n",
            "pumpkin     8\n",
            "carrot     10\n",
            "dtype: int64\n"
          ]
        }
      ]
    }
  ]
}