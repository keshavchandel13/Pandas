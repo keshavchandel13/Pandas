{
  "nbformat": 4,
  "nbformat_minor": 0,
  "metadata": {
    "colab": {
      "provenance": [],
      "authorship_tag": "ABX9TyOAEez5yQcrwMlx/evYw0Z9",
      "include_colab_link": true
    },
    "kernelspec": {
      "name": "python3",
      "display_name": "Python 3"
    },
    "language_info": {
      "name": "python"
    }
  },
  "cells": [
    {
      "cell_type": "markdown",
      "metadata": {
        "id": "view-in-github",
        "colab_type": "text"
      },
      "source": [
        "<a href=\"https://colab.research.google.com/github/keshavchandel13/Pandas/blob/main/DropingEditingValues.ipynb\" target=\"_parent\"><img src=\"https://colab.research.google.com/assets/colab-badge.svg\" alt=\"Open In Colab\"/></a>"
      ]
    },
    {
      "cell_type": "markdown",
      "source": [
        "# Droping and editing values"
      ],
      "metadata": {
        "id": "goqri5YBCo90"
      }
    },
    {
      "cell_type": "code",
      "source": [
        "import numpy as np\n",
        "import pandas as pd"
      ],
      "metadata": {
        "id": "QhVkM9QqC_UF"
      },
      "execution_count": 1,
      "outputs": []
    },
    {
      "cell_type": "code",
      "execution_count": 9,
      "metadata": {
        "id": "hgqyOUXLCiTg"
      },
      "outputs": [],
      "source": [
        "# Creating a dataFrame\n",
        "list_of_tuples = [('sf',2012),('phx',np.nan),('phx',2005),('chi',2009)]\n",
        "df = pd.DataFrame(list_of_tuples,columns=['city','year'])\n",
        "df['country'] = 'India'\n",
        "df['continent'] = 'Asia'"
      ]
    },
    {
      "cell_type": "code",
      "source": [
        "print(df)"
      ],
      "metadata": {
        "colab": {
          "base_uri": "https://localhost:8080/"
        },
        "id": "bUKkfFwgDghe",
        "outputId": "3553f4e5-7e0b-4548-ccb6-42da18e4302e"
      },
      "execution_count": 3,
      "outputs": [
        {
          "output_type": "stream",
          "name": "stdout",
          "text": [
            "  city    year country continent\n",
            "0   sf  2012.0   India      Asia\n",
            "1  phx     NaN   India      Asia\n",
            "2  phx  2005.0   India      Asia\n",
            "3  chi  2009.0   India      Asia\n"
          ]
        }
      ]
    },
    {
      "cell_type": "code",
      "source": [
        "# To remove the column from the dataFrame with the .drop() by refrencing label and axis\n",
        "# axis 0 = rows\n",
        "# axis 1 = columns\n",
        "df2= df.drop('country', axis=1, inplace=False)\n",
        "print(df2)"
      ],
      "metadata": {
        "colab": {
          "base_uri": "https://localhost:8080/"
        },
        "id": "5n2Sd-ItDnWF",
        "outputId": "faeb6e24-6aca-420d-fe3f-07aff6c5494b"
      },
      "execution_count": 11,
      "outputs": [
        {
          "output_type": "stream",
          "name": "stdout",
          "text": [
            "  city    year continent\n",
            "0   sf  2012.0      Asia\n",
            "1  phx     NaN      Asia\n",
            "2  phx  2005.0      Asia\n",
            "3  chi  2009.0      Asia\n"
          ]
        }
      ]
    },
    {
      "cell_type": "code",
      "source": [
        "# another method to remove the column form the dataFrame: del()\n",
        "del(df2['continent'])\n",
        "print(df2)"
      ],
      "metadata": {
        "colab": {
          "base_uri": "https://localhost:8080/"
        },
        "id": "owyi6NkBEeEN",
        "outputId": "139772b4-2967-4910-a2f7-e325024f2387"
      },
      "execution_count": 12,
      "outputs": [
        {
          "output_type": "stream",
          "name": "stdout",
          "text": [
            "  city    year\n",
            "0   sf  2012.0\n",
            "1  phx     NaN\n",
            "2  phx  2005.0\n",
            "3  chi  2009.0\n"
          ]
        }
      ]
    }
  ]
}