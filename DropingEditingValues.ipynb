{
  "nbformat": 4,
  "nbformat_minor": 0,
  "metadata": {
    "colab": {
      "provenance": [],
      "authorship_tag": "ABX9TyPuLqrcxiVzSJrqiDgugl1K",
      "include_colab_link": true
    },
    "kernelspec": {
      "name": "python3",
      "display_name": "Python 3"
    },
    "language_info": {
      "name": "python"
    }
  },
  "cells": [
    {
      "cell_type": "markdown",
      "metadata": {
        "id": "view-in-github",
        "colab_type": "text"
      },
      "source": [
        "<a href=\"https://colab.research.google.com/github/keshavchandel13/Pandas/blob/main/DropingEditingValues.ipynb\" target=\"_parent\"><img src=\"https://colab.research.google.com/assets/colab-badge.svg\" alt=\"Open In Colab\"/></a>"
      ]
    },
    {
      "cell_type": "markdown",
      "source": [
        "# Droping and editing values"
      ],
      "metadata": {
        "id": "goqri5YBCo90"
      }
    },
    {
      "cell_type": "code",
      "source": [
        "import numpy as np\n",
        "import pandas as pd"
      ],
      "metadata": {
        "id": "QhVkM9QqC_UF"
      },
      "execution_count": 23,
      "outputs": []
    },
    {
      "cell_type": "code",
      "execution_count": 24,
      "metadata": {
        "id": "hgqyOUXLCiTg"
      },
      "outputs": [],
      "source": [
        "# Creating a dataFrame\n",
        "list_of_tuples = [('sf',2012),('phx',np.nan),('phx',2005),('chi',2009)]\n",
        "df = pd.DataFrame(list_of_tuples,columns=['city','year'])\n",
        "df['country'] = 'India'\n",
        "df['continent'] = 'Asia'"
      ]
    },
    {
      "cell_type": "code",
      "source": [
        "print(df)"
      ],
      "metadata": {
        "colab": {
          "base_uri": "https://localhost:8080/"
        },
        "id": "bUKkfFwgDghe",
        "outputId": "3553f4e5-7e0b-4548-ccb6-42da18e4302e"
      },
      "execution_count": 3,
      "outputs": [
        {
          "output_type": "stream",
          "name": "stdout",
          "text": [
            "  city    year country continent\n",
            "0   sf  2012.0   India      Asia\n",
            "1  phx     NaN   India      Asia\n",
            "2  phx  2005.0   India      Asia\n",
            "3  chi  2009.0   India      Asia\n"
          ]
        }
      ]
    },
    {
      "cell_type": "code",
      "source": [
        "# To remove the column from the dataFrame with the .drop() by refrencing label and axis\n",
        "# axis 0 = rows\n",
        "# axis 1 = columns\n",
        "df2= df.drop('country', axis=1, inplace=False)\n",
        "print(df2)"
      ],
      "metadata": {
        "colab": {
          "base_uri": "https://localhost:8080/"
        },
        "id": "5n2Sd-ItDnWF",
        "outputId": "faeb6e24-6aca-420d-fe3f-07aff6c5494b"
      },
      "execution_count": 11,
      "outputs": [
        {
          "output_type": "stream",
          "name": "stdout",
          "text": [
            "  city    year continent\n",
            "0   sf  2012.0      Asia\n",
            "1  phx     NaN      Asia\n",
            "2  phx  2005.0      Asia\n",
            "3  chi  2009.0      Asia\n"
          ]
        }
      ]
    },
    {
      "cell_type": "code",
      "source": [
        "# another method to remove the column form the dataFrame: del()\n",
        "del(df2['continent'])\n",
        "print(df2)"
      ],
      "metadata": {
        "colab": {
          "base_uri": "https://localhost:8080/"
        },
        "id": "owyi6NkBEeEN",
        "outputId": "139772b4-2967-4910-a2f7-e325024f2387"
      },
      "execution_count": 12,
      "outputs": [
        {
          "output_type": "stream",
          "name": "stdout",
          "text": [
            "  city    year\n",
            "0   sf  2012.0\n",
            "1  phx     NaN\n",
            "2  phx  2005.0\n",
            "3  chi  2009.0\n"
          ]
        }
      ]
    },
    {
      "cell_type": "code",
      "source": [
        "# to check the row count of a dataframe: len()\n",
        "len(df)\n",
        "print(df)"
      ],
      "metadata": {
        "colab": {
          "base_uri": "https://localhost:8080/"
        },
        "id": "Pyj_6cGmJDRu",
        "outputId": "c7a79ca6-9847-4a43-9820-18c14e2e96f8"
      },
      "execution_count": 13,
      "outputs": [
        {
          "output_type": "stream",
          "name": "stdout",
          "text": [
            "  city    year country continent\n",
            "0   sf  2012.0   India      Asia\n",
            "1  phx     NaN   India      Asia\n",
            "2  phx  2005.0   India      Asia\n",
            "3  chi  2009.0   India      Asia\n"
          ]
        }
      ]
    },
    {
      "cell_type": "code",
      "source": [
        "# to check the row count excluding NAN value\n",
        "df.count()"
      ],
      "metadata": {
        "colab": {
          "base_uri": "https://localhost:8080/",
          "height": 209
        },
        "id": "979caXmUJNi1",
        "outputId": "9e48fd73-c6b4-4184-d8cc-8dd0f522672c"
      },
      "execution_count": 14,
      "outputs": [
        {
          "output_type": "execute_result",
          "data": {
            "text/plain": [
              "city         4\n",
              "year         3\n",
              "country      4\n",
              "continent    4\n",
              "dtype: int64"
            ],
            "text/html": [
              "<div>\n",
              "<style scoped>\n",
              "    .dataframe tbody tr th:only-of-type {\n",
              "        vertical-align: middle;\n",
              "    }\n",
              "\n",
              "    .dataframe tbody tr th {\n",
              "        vertical-align: top;\n",
              "    }\n",
              "\n",
              "    .dataframe thead th {\n",
              "        text-align: right;\n",
              "    }\n",
              "</style>\n",
              "<table border=\"1\" class=\"dataframe\">\n",
              "  <thead>\n",
              "    <tr style=\"text-align: right;\">\n",
              "      <th></th>\n",
              "      <th>0</th>\n",
              "    </tr>\n",
              "  </thead>\n",
              "  <tbody>\n",
              "    <tr>\n",
              "      <th>city</th>\n",
              "      <td>4</td>\n",
              "    </tr>\n",
              "    <tr>\n",
              "      <th>year</th>\n",
              "      <td>3</td>\n",
              "    </tr>\n",
              "    <tr>\n",
              "      <th>country</th>\n",
              "      <td>4</td>\n",
              "    </tr>\n",
              "    <tr>\n",
              "      <th>continent</th>\n",
              "      <td>4</td>\n",
              "    </tr>\n",
              "  </tbody>\n",
              "</table>\n",
              "</div><br><label><b>dtype:</b> int64</label>"
            ]
          },
          "metadata": {},
          "execution_count": 14
        }
      ]
    },
    {
      "cell_type": "code",
      "source": [
        "# To get the shape of the dataFrame: .shape\n",
        "df.shape"
      ],
      "metadata": {
        "colab": {
          "base_uri": "https://localhost:8080/"
        },
        "id": "erb8qWphJcB-",
        "outputId": "aa083376-de93-4b8b-cc2a-57091c3b0a56"
      },
      "execution_count": 16,
      "outputs": [
        {
          "output_type": "execute_result",
          "data": {
            "text/plain": [
              "(4, 4)"
            ]
          },
          "metadata": {},
          "execution_count": 16
        }
      ]
    },
    {
      "cell_type": "code",
      "source": [
        "# unique: uniques values\n",
        "print(df['city'].unique())\n",
        "# nunique: count of unique values\n",
        "print(df['city'].nunique())\n",
        "# value_counts: value + count of unique\n",
        "print(df['city'].value_counts())\n"
      ],
      "metadata": {
        "colab": {
          "base_uri": "https://localhost:8080/"
        },
        "id": "BsBgZQv2KeTM",
        "outputId": "b3a30ab3-f2fd-4e03-9927-033b8061cadc"
      },
      "execution_count": 22,
      "outputs": [
        {
          "output_type": "stream",
          "name": "stdout",
          "text": [
            "['sf' 'phx' 'chi']\n",
            "3\n",
            "city\n",
            "phx    2\n",
            "sf     1\n",
            "chi    1\n",
            "Name: count, dtype: int64\n"
          ]
        }
      ]
    },
    {
      "cell_type": "code",
      "source": [
        "# to drop the rows which contain duplicate values in some specified column\n",
        "df3 = df.drop_duplicates('city')\n",
        "print(df3)"
      ],
      "metadata": {
        "colab": {
          "base_uri": "https://localhost:8080/"
        },
        "id": "b1Kt6ebsLJA6",
        "outputId": "fd6d4771-ee45-49b4-b0db-58f628f18a63"
      },
      "execution_count": 25,
      "outputs": [
        {
          "output_type": "stream",
          "name": "stdout",
          "text": [
            "  city    year country continent\n",
            "0   sf  2012.0   India      Asia\n",
            "1  phx     NaN   India      Asia\n",
            "3  chi  2009.0   India      Asia\n"
          ]
        }
      ]
    },
    {
      "cell_type": "code",
      "source": [],
      "metadata": {
        "id": "-Y1GbfJaWcXK"
      },
      "execution_count": null,
      "outputs": []
    }
  ]
}