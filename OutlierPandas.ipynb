{
  "nbformat": 4,
  "nbformat_minor": 0,
  "metadata": {
    "colab": {
      "provenance": [],
      "authorship_tag": "ABX9TyO8T8NDwtdcINlxFUMruyJK",
      "include_colab_link": true
    },
    "kernelspec": {
      "name": "python3",
      "display_name": "Python 3"
    },
    "language_info": {
      "name": "python"
    }
  },
  "cells": [
    {
      "cell_type": "markdown",
      "metadata": {
        "id": "view-in-github",
        "colab_type": "text"
      },
      "source": [
        "<a href=\"https://colab.research.google.com/github/keshavchandel13/Pandas/blob/main/OutlierPandas.ipynb\" target=\"_parent\"><img src=\"https://colab.research.google.com/assets/colab-badge.svg\" alt=\"Open In Colab\"/></a>"
      ]
    },
    {
      "cell_type": "markdown",
      "source": [
        "# Outlier: data point that significantly deviates from the rest of the data in a Series or DataFrame column."
      ],
      "metadata": {
        "id": "Ez60Kk1APxq5"
      }
    },
    {
      "cell_type": "code",
      "execution_count": 9,
      "metadata": {
        "id": "YtT7OqCFPtTM"
      },
      "outputs": [],
      "source": [
        "import numpy as np\n",
        "import matplotlib.pyplot as plt\n",
        "%matplotlib inline"
      ]
    },
    {
      "cell_type": "markdown",
      "source": [
        "**Impacts of having outliers in the dataset**\n",
        "1. It causes various problems during our statistical analysis\n",
        "2. It may cause a significant impact on the mean and the standard deviation"
      ],
      "metadata": {
        "id": "7Jd0IKD-QX0T"
      }
    },
    {
      "cell_type": "markdown",
      "source": [
        "** Various Ways of finding the outlier **\n",
        "1. using scatter plots\n",
        "2. Box plot\n",
        "3. using the IQR interquantile range"
      ],
      "metadata": {
        "id": "bZcKWs_3QzF4"
      }
    },
    {
      "cell_type": "code",
      "source": [
        "# dataset\n",
        "dataset = [12, 5, 1, 13, 16, 17, 18, 19, 20, 14,\n",
        "        22, 1, 23, 2, 5, 6, 7, 0, 3, 3,\n",
        "        33, 5, 6, 37, 38, 40, 10, 10, 10, 15,\n",
        "        12, 1, 10, 550,400]\n",
        "len(dataset)"
      ],
      "metadata": {
        "colab": {
          "base_uri": "https://localhost:8080/"
        },
        "id": "ceEpVJOAQviG",
        "outputId": "fe119340-a7f0-426d-8d3c-f34a4bd892ce"
      },
      "execution_count": 25,
      "outputs": [
        {
          "output_type": "execute_result",
          "data": {
            "text/plain": [
              "35"
            ]
          },
          "metadata": {},
          "execution_count": 25
        }
      ]
    },
    {
      "cell_type": "code",
      "source": [
        "print(\"Mean\")\n",
        "print(np.mean(dataset))\n",
        "\n",
        "print(\"Median\")\n",
        "print(np.median(dataset))\n",
        "\n",
        "print(\"Standard deviataion\")\n",
        "print(np.std(dataset))"
      ],
      "metadata": {
        "colab": {
          "base_uri": "https://localhost:8080/"
        },
        "id": "TW1vQd55RkqX",
        "outputId": "78b6d389-669a-40c6-c18a-ba27e0a7a57d"
      },
      "execution_count": 26,
      "outputs": [
        {
          "output_type": "stream",
          "name": "stdout",
          "text": [
            "Mean\n",
            "39.542857142857144\n",
            "Median\n",
            "12.0\n",
            "Standard deviataion\n",
            "109.20710151088235\n"
          ]
        }
      ]
    },
    {
      "cell_type": "markdown",
      "source": [
        "# detecting outlier using Z score\n",
        "Z score is also called standard score. This score helps to understand if a data value is greater or smaller than mean and how\n",
        "far away it is from the mean. More specifically, Z score tells how many standard deviations away a data point is from the mean.\n",
        "\n",
        "Z score = (x -mean) / std, deviation\n",
        "\n",
        "In a normal distribution it is estimated that\n",
        "\n",
        "68% of the data points lie between +/- 1 standard deviation.\n",
        "\n",
        "95% of the data points lie between +/- 2 standard deviation.\n",
        "\n",
        "99.7% of the data points lie between +/- 3 standard deviation.\n",
        "\n",
        "Formula for Z score = (Observation - Mean)/Standard Deviation"
      ],
      "metadata": {
        "id": "6W2j_rfcRmKk"
      }
    },
    {
      "cell_type": "code",
      "source": [
        "outlier = []\n",
        "def detect_outlier(data):\n",
        "  threshold = 3\n",
        "  mean = np.mean(data)\n",
        "  std = np.std(data)\n",
        "  for i in data:\n",
        "    z_score = (i-mean)/std\n",
        "    if np.abs(z_score) > threshold:\n",
        "      outlier.append(i)\n",
        "  return outlier\n",
        "\n"
      ],
      "metadata": {
        "id": "InapascsSLWi"
      },
      "execution_count": 27,
      "outputs": []
    },
    {
      "cell_type": "code",
      "source": [
        "outlier_pt =detect_outlier(dataset)\n",
        "outlier_pt"
      ],
      "metadata": {
        "colab": {
          "base_uri": "https://localhost:8080/"
        },
        "id": "_RFsffSYU1ql",
        "outputId": "2c182895-0e9a-4022-95cd-4243f77d4cd7"
      },
      "execution_count": 28,
      "outputs": [
        {
          "output_type": "execute_result",
          "data": {
            "text/plain": [
              "[550, 400]"
            ]
          },
          "metadata": {},
          "execution_count": 28
        }
      ]
    },
    {
      "cell_type": "markdown",
      "source": [
        "# Interquatile range\n",
        "75%-25% values in a dataset\n",
        "Steps\n",
        "1. Arrange the data in increasing order\n",
        "2. Calculate first(q1) and third quartile(q3)\n",
        "3. Find interquartile range (q3-q1)\n",
        "4. Find lower bound q1*1.5\n",
        "5. Find upper bound q3*1.5\n",
        "Anything that lies outside of lower and upper bound is an outlier"
      ],
      "metadata": {
        "id": "MiPpY2lXV-WC"
      }
    },
    {
      "cell_type": "code",
      "source": [
        "def detect_outliers_iqr(data):\n",
        "    Q1 = np.percentile(data, 25)  # First quartile (25th percentile)\n",
        "    Q3 = np.percentile(data, 75)  # Third quartile (75th percentile)\n",
        "    IQR = Q3 - Q1  # Interquartile range\n",
        "\n",
        "    lower_bound = Q1 - 1.5 * IQR\n",
        "    upper_bound = Q3 + 1.5 * IQR\n",
        "\n",
        "    print(f\"Q1: {Q1}, Q3: {Q3}, IQR: {IQR}\")\n",
        "    print(f\"Lower Bound: {lower_bound}, Upper Bound: {upper_bound}\")\n",
        "\n",
        "    outliers = [x for x in data if x < lower_bound or x > upper_bound]\n",
        "    return outliers"
      ],
      "metadata": {
        "id": "TPINKPdcWIAF"
      },
      "execution_count": 30,
      "outputs": []
    },
    {
      "cell_type": "code",
      "source": [
        "outlier_pts = detect_outliers_iqr(dataset)\n",
        "print(\"\\nDetected Outliers:\", outlier_pts)"
      ],
      "metadata": {
        "colab": {
          "base_uri": "https://localhost:8080/"
        },
        "id": "YY3PrPdbW0GB",
        "outputId": "02d8cacc-eaf0-4525-ea48-88d39e7fd962"
      },
      "execution_count": 31,
      "outputs": [
        {
          "output_type": "stream",
          "name": "stdout",
          "text": [
            "Q1: 5.0, Q3: 19.5, IQR: 14.5\n",
            "Lower Bound: -16.75, Upper Bound: 41.25\n",
            "\n",
            "Detected Outliers: [550, 400]\n"
          ]
        }
      ]
    }
  ]
}